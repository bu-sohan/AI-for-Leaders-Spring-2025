{
 "cells": [
  {
   "cell_type": "markdown",
   "id": "5190b54c-d49c-4d6f-80cc-22555336a9cd",
   "metadata": {},
   "source": [
    "# Week 2 - Preprocessing, part 2\n",
    "\n",
    "# 1. Lesson: None"
   ]
  },
  {
   "cell_type": "markdown",
   "id": "47c4e5ff-b05f-4ef2-96f1-49dcb5beb158",
   "metadata": {},
   "source": [
    "# 2. Weekly graph question"
   ]
  },
  {
   "cell_type": "markdown",
   "id": "aad37e29-6e84-41fa-886d-abc1312213ab",
   "metadata": {},
   "source": [
    "The Storytelling With Data book mentions planning on a \"Who, What, and How\" for your data story.  Write down a possible Who, What, and How for your data, using the ideas in the book."
   ]
  },
  {
   "cell_type": "markdown",
   "id": "c862fc32-1297-4587-b9da-4b0642ab3e6e",
   "metadata": {},
   "source": [
    "***Last semster, I worked with the dataset below about how weather affects solar power generation. I work in a renewable energy company that works with commercial solar projects. The company greatly benefits from such weather related data. For example, more sunny days are directly associated with higher energy production. Here's how the data story would work on this dataset;\n",
    "\n",
    "https://www.kaggle.com/datasets/pythonafroz/solar-powe-generation-data?select=Solar%2BPower%2BPlant%2BData.csv\n",
    "\n",
    "Who: Let's say Project Planning and Development (PPD) committee would present this data to the Board of Directors (BoD) to approve additional projects  \n",
    "What: PPD would propose potential financially benefitical solar projects that need to be approved by the BoD   \n",
    "How: PPD would show weather related data for the project location to prove that it would produce enough energy to bring in profits for the company.  "
   ]
  },
  {
   "cell_type": "markdown",
   "id": "898eb327-aefd-4ac0-b95a-92b616a2181b",
   "metadata": {},
   "source": [
    "# 3. Homework - work with your own data"
   ]
  },
  {
   "cell_type": "code",
   "execution_count": 6,
   "id": "fe925521-979f-4983-8d85-8db8d1316e99",
   "metadata": {},
   "outputs": [],
   "source": [
    "import pandas as pd\n",
    "import numpy as np\n",
    "from datetime import datetime, timedelta"
   ]
  },
  {
   "cell_type": "markdown",
   "id": "14836788-b235-4cd4-b94d-5f749c6141a8",
   "metadata": {},
   "source": [
    "This week, you will do the same types of exercises as last week, but you should use your own datasets that you found last semester.\n",
    "\n",
    "### Here are some types of analysis you can do  Use Google, documentation, and ChatGPT to help you:\n",
    "\n",
    "- Summarize the datasets using info() and describe()\n",
    "\n",
    "- Are there any duplicate rows?\n",
    "\n",
    "- Are there any duplicate values in a given column (when this would be inappropriate?)\n",
    "\n",
    "- What are the mean, median, and mode of each column?\n",
    "\n",
    "- Are there any missing or null values?\n",
    "\n",
    "    - Do you want to fill in the missing value with a mean value?  A value of your choice?  Remove that row?\n",
    "\n",
    "- Identify any other inconsistent data (e.g. someone seems to be taking an action before they are born.)\n",
    "\n",
    "- Encode any categorical variables (e.g. with one-hot encoding.)\n",
    "\n",
    "### Conclusions:\n",
    "\n",
    "- Are the data usable?  If not, find some new data!\n",
    "\n",
    "- Do you need to modify or correct the data in some way?\n",
    "\n",
    "- Is there any class imbalance?  (Categories that have many more items than other categories)."
   ]
  },
  {
   "cell_type": "code",
   "execution_count": 17,
   "id": "c93b4bf3",
   "metadata": {},
   "outputs": [],
   "source": [
    "#Importing the dataset\n",
    "\n",
    "solar = pd.read_csv(\"Solar Power Plant Data.csv\")\n"
   ]
  },
  {
   "cell_type": "code",
   "execution_count": 18,
   "id": "d5611d64",
   "metadata": {},
   "outputs": [
    {
     "name": "stdout",
     "output_type": "stream",
     "text": [
      "<class 'pandas.core.frame.DataFrame'>\n",
      "RangeIndex: 8760 entries, 0 to 8759\n",
      "Data columns (total 8 columns):\n",
      " #   Column               Non-Null Count  Dtype  \n",
      "---  ------               --------------  -----  \n",
      " 0   Date-Hour(NMT)       8760 non-null   object \n",
      " 1   WindSpeed            8760 non-null   float64\n",
      " 2   Sunshine             8760 non-null   int64  \n",
      " 3   AirPressure          8760 non-null   float64\n",
      " 4   Radiation            8760 non-null   float64\n",
      " 5   AirTemperature       8760 non-null   float64\n",
      " 6   RelativeAirHumidity  8760 non-null   int64  \n",
      " 7   SystemProduction     8760 non-null   float64\n",
      "dtypes: float64(5), int64(2), object(1)\n",
      "memory usage: 547.6+ KB\n"
     ]
    },
    {
     "data": {
      "text/html": [
       "<div>\n",
       "<style scoped>\n",
       "    .dataframe tbody tr th:only-of-type {\n",
       "        vertical-align: middle;\n",
       "    }\n",
       "\n",
       "    .dataframe tbody tr th {\n",
       "        vertical-align: top;\n",
       "    }\n",
       "\n",
       "    .dataframe thead th {\n",
       "        text-align: right;\n",
       "    }\n",
       "</style>\n",
       "<table border=\"1\" class=\"dataframe\">\n",
       "  <thead>\n",
       "    <tr style=\"text-align: right;\">\n",
       "      <th></th>\n",
       "      <th>WindSpeed</th>\n",
       "      <th>Sunshine</th>\n",
       "      <th>AirPressure</th>\n",
       "      <th>Radiation</th>\n",
       "      <th>AirTemperature</th>\n",
       "      <th>RelativeAirHumidity</th>\n",
       "      <th>SystemProduction</th>\n",
       "    </tr>\n",
       "  </thead>\n",
       "  <tbody>\n",
       "    <tr>\n",
       "      <th>count</th>\n",
       "      <td>8760.000000</td>\n",
       "      <td>8760.000000</td>\n",
       "      <td>8760.000000</td>\n",
       "      <td>8760.000000</td>\n",
       "      <td>8760.000000</td>\n",
       "      <td>8760.000000</td>\n",
       "      <td>8760.000000</td>\n",
       "    </tr>\n",
       "    <tr>\n",
       "      <th>mean</th>\n",
       "      <td>2.639823</td>\n",
       "      <td>11.180479</td>\n",
       "      <td>1010.361781</td>\n",
       "      <td>97.538493</td>\n",
       "      <td>6.978893</td>\n",
       "      <td>76.719406</td>\n",
       "      <td>684.746071</td>\n",
       "    </tr>\n",
       "    <tr>\n",
       "      <th>std</th>\n",
       "      <td>1.628754</td>\n",
       "      <td>21.171295</td>\n",
       "      <td>12.793971</td>\n",
       "      <td>182.336029</td>\n",
       "      <td>7.604266</td>\n",
       "      <td>19.278996</td>\n",
       "      <td>1487.454665</td>\n",
       "    </tr>\n",
       "    <tr>\n",
       "      <th>min</th>\n",
       "      <td>0.000000</td>\n",
       "      <td>0.000000</td>\n",
       "      <td>965.900000</td>\n",
       "      <td>-9.300000</td>\n",
       "      <td>-12.400000</td>\n",
       "      <td>13.000000</td>\n",
       "      <td>0.000000</td>\n",
       "    </tr>\n",
       "    <tr>\n",
       "      <th>25%</th>\n",
       "      <td>1.400000</td>\n",
       "      <td>0.000000</td>\n",
       "      <td>1002.800000</td>\n",
       "      <td>-6.200000</td>\n",
       "      <td>0.500000</td>\n",
       "      <td>64.000000</td>\n",
       "      <td>0.000000</td>\n",
       "    </tr>\n",
       "    <tr>\n",
       "      <th>50%</th>\n",
       "      <td>2.300000</td>\n",
       "      <td>0.000000</td>\n",
       "      <td>1011.000000</td>\n",
       "      <td>-1.400000</td>\n",
       "      <td>6.400000</td>\n",
       "      <td>82.000000</td>\n",
       "      <td>0.000000</td>\n",
       "    </tr>\n",
       "    <tr>\n",
       "      <th>75%</th>\n",
       "      <td>3.600000</td>\n",
       "      <td>7.000000</td>\n",
       "      <td>1018.200000</td>\n",
       "      <td>115.600000</td>\n",
       "      <td>13.400000</td>\n",
       "      <td>93.000000</td>\n",
       "      <td>464.249950</td>\n",
       "    </tr>\n",
       "    <tr>\n",
       "      <th>max</th>\n",
       "      <td>10.900000</td>\n",
       "      <td>60.000000</td>\n",
       "      <td>1047.300000</td>\n",
       "      <td>899.700000</td>\n",
       "      <td>27.100000</td>\n",
       "      <td>100.000000</td>\n",
       "      <td>7701.000000</td>\n",
       "    </tr>\n",
       "  </tbody>\n",
       "</table>\n",
       "</div>"
      ],
      "text/plain": [
       "         WindSpeed     Sunshine  AirPressure    Radiation  AirTemperature  \\\n",
       "count  8760.000000  8760.000000  8760.000000  8760.000000     8760.000000   \n",
       "mean      2.639823    11.180479  1010.361781    97.538493        6.978893   \n",
       "std       1.628754    21.171295    12.793971   182.336029        7.604266   \n",
       "min       0.000000     0.000000   965.900000    -9.300000      -12.400000   \n",
       "25%       1.400000     0.000000  1002.800000    -6.200000        0.500000   \n",
       "50%       2.300000     0.000000  1011.000000    -1.400000        6.400000   \n",
       "75%       3.600000     7.000000  1018.200000   115.600000       13.400000   \n",
       "max      10.900000    60.000000  1047.300000   899.700000       27.100000   \n",
       "\n",
       "       RelativeAirHumidity  SystemProduction  \n",
       "count          8760.000000       8760.000000  \n",
       "mean             76.719406        684.746071  \n",
       "std              19.278996       1487.454665  \n",
       "min              13.000000          0.000000  \n",
       "25%              64.000000          0.000000  \n",
       "50%              82.000000          0.000000  \n",
       "75%              93.000000        464.249950  \n",
       "max             100.000000       7701.000000  "
      ]
     },
     "execution_count": 18,
     "metadata": {},
     "output_type": "execute_result"
    }
   ],
   "source": [
    "#Summarizing the datasets\n",
    "\n",
    "solar.info()\n",
    "solar.describe()"
   ]
  },
  {
   "cell_type": "code",
   "execution_count": 19,
   "id": "90f9be82",
   "metadata": {},
   "outputs": [
    {
     "name": "stdout",
     "output_type": "stream",
     "text": [
      "Empty DataFrame\n",
      "Columns: [Date-Hour(NMT), WindSpeed, Sunshine, AirPressure, Radiation, AirTemperature, RelativeAirHumidity, SystemProduction]\n",
      "Index: []\n"
     ]
    }
   ],
   "source": [
    "#Finding duplicates\n",
    "\n",
    "Duplicates = solar[solar.duplicated()]\n",
    "\n",
    "print(Duplicates)"
   ]
  },
  {
   "cell_type": "markdown",
   "id": "6b92a2c2",
   "metadata": {},
   "source": [
    "There seems to be no duplicated rows in solar dataframe. And based on the dataset, I don't think it is fruitful to look for duplicated values in a single column. "
   ]
  },
  {
   "cell_type": "code",
   "execution_count": 23,
   "id": "a735172c",
   "metadata": {},
   "outputs": [
    {
     "name": "stdout",
     "output_type": "stream",
     "text": [
      "Mean:\n",
      " WindSpeed                 2.639823\n",
      "Sunshine                 11.180479\n",
      "AirPressure            1010.361781\n",
      "Radiation                97.538493\n",
      "AirTemperature            6.978893\n",
      "RelativeAirHumidity      76.719406\n",
      "SystemProduction        684.746071\n",
      "dtype: float64\n",
      "\n",
      "Median:\n",
      " WindSpeed                 2.3\n",
      "Sunshine                  0.0\n",
      "AirPressure            1011.0\n",
      "Radiation                -1.4\n",
      "AirTemperature            6.4\n",
      "RelativeAirHumidity      82.0\n",
      "SystemProduction          0.0\n",
      "dtype: float64\n",
      "\n",
      "Mode:\n",
      " WindSpeed                 1.8\n",
      "Sunshine                  0.0\n",
      "AirPressure            1011.0\n",
      "Radiation                -6.2\n",
      "AirTemperature           -0.7\n",
      "RelativeAirHumidity     100.0\n",
      "SystemProduction          0.0\n",
      "Name: 0, dtype: float64\n"
     ]
    }
   ],
   "source": [
    "# Mean of each column\n",
    "mean_solar = solar.mean(numeric_only=True)\n",
    "\n",
    "median_solar = solar.median(numeric_only=True)\n",
    "\n",
    "mode_solar = solar.mode(numeric_only=True).iloc[0]\n",
    "\n",
    "print(\"Mean:\\n\", mean_solar)\n",
    "print(\"\\nMedian:\\n\", median_solar)\n",
    "print(\"\\nMode:\\n\", mode_solar)\n"
   ]
  },
  {
   "cell_type": "code",
   "execution_count": 24,
   "id": "719d7a02",
   "metadata": {},
   "outputs": [
    {
     "name": "stdout",
     "output_type": "stream",
     "text": [
      "False\n"
     ]
    }
   ],
   "source": [
    "# Based on the info(), there should not be any null values. But double-checking for null values.\n",
    "\n",
    "print(solar.isnull().values.any())"
   ]
  },
  {
   "cell_type": "markdown",
   "id": "3a4a8cce",
   "metadata": {},
   "source": [
    "Cannot perform one-hot encoding as the dataset does not contain any categorical variable column. "
   ]
  },
  {
   "cell_type": "markdown",
   "id": "1a601137",
   "metadata": {},
   "source": [
    "Conclusion: the dataset seems to be fine. However, it is not useful for machine learning methods such as one-hot encoding. The data is straight forward, but is not useful for this course. Will need to find a separate dataset.  "
   ]
  },
  {
   "cell_type": "markdown",
   "id": "abab9e6d-18cc-4863-b980-3e52f581763a",
   "metadata": {},
   "source": [
    "# 4. Storytelling With Data graph"
   ]
  },
  {
   "cell_type": "markdown",
   "id": "1911148d-9df6-4b33-a875-8c96408ec834",
   "metadata": {},
   "source": [
    "Just like last week: choose any graph in the Introduction of Storytelling With Data. Use matplotlib to reproduce it in a rough way. I don't expect you to spend an enormous amount of time on this; I understand that you likely will not have time to re-create every feature of the graph. However, if you're excited about learning to use matplotlib, this is a good way to do that. You don't have to duplicate the exact values on the graph; just the same rough shape will be enough.  If you don't feel comfortable using matplotlib yet, do the best you can and write down what you tried or what Google searches you did to find the answers."
   ]
  },
  {
   "cell_type": "code",
   "execution_count": null,
   "id": "8b2888f9-3700-45ab-9829-6a5372106f9f",
   "metadata": {},
   "outputs": [],
   "source": []
  }
 ],
 "metadata": {
  "kernelspec": {
   "display_name": "Python 3",
   "language": "python",
   "name": "python3"
  },
  "language_info": {
   "codemirror_mode": {
    "name": "ipython",
    "version": 3
   },
   "file_extension": ".py",
   "mimetype": "text/x-python",
   "name": "python",
   "nbconvert_exporter": "python",
   "pygments_lexer": "ipython3",
   "version": "3.12.1"
  }
 },
 "nbformat": 4,
 "nbformat_minor": 5
}
